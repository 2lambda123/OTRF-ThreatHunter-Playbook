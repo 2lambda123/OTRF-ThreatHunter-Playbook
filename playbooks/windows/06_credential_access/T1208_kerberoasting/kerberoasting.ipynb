{
 "cells": [
  {
   "cell_type": "code",
   "execution_count": 14,
   "metadata": {},
   "outputs": [],
   "source": [
    "from pyspark.sql import SparkSession"
   ]
  },
  {
   "cell_type": "code",
   "execution_count": 15,
   "metadata": {},
   "outputs": [],
   "source": [
    "spark = SparkSession.builder \\\n",
    "    .appName(\"HELK JOIN\") \\\n",
    "    .master(\"spark://helk-spark-master:7077\") \\\n",
    "    .enableHiveSupport() \\\n",
    "    .getOrCreate()"
   ]
  },
  {
   "cell_type": "code",
   "execution_count": 16,
   "metadata": {},
   "outputs": [],
   "source": [
    "es_reader = (spark.read\n",
    "    .format(\"org.elasticsearch.spark.sql\")\n",
    "    .option(\"inferSchema\", \"true\")\n",
    "    .option(\"es.read.field.as.array.include\", \"tags\")\n",
    "    .option(\"es.nodes\",\"helk-elasticsearch:9200\")\n",
    "    .option(\"es.net.http.auth.user\",\"elastic\")\n",
    ")"
   ]
  },
  {
   "cell_type": "code",
   "execution_count": 17,
   "metadata": {},
   "outputs": [],
   "source": [
    "security_df = es_reader.load(\"logs-endpoint-winevent-security-*/\")"
   ]
  },
  {
   "cell_type": "code",
   "execution_count": 18,
   "metadata": {},
   "outputs": [],
   "source": [
    "security_df.createOrReplaceTempView(\"security_events\")"
   ]
  },
  {
   "cell_type": "code",
   "execution_count": 38,
   "metadata": {},
   "outputs": [
    {
     "name": "stdout",
     "output_type": "stream",
     "text": [
      "+--------+-----------------+----------------------------+-------------------+\n",
      "|event_id|        user_name|ticket_encryption_type_value|service_ticket_name|\n",
      "+--------+-----------------+----------------------------+-------------------+\n",
      "|    4769|nmartha@shire.com|                    RC4-HMAC|            gandalf|\n",
      "+--------+-----------------+----------------------------+-------------------+\n",
      "\n"
     ]
    }
   ],
   "source": [
    "security_4769 = spark.sql(\n",
    "'''\n",
    "    SELECT event_id, user_name, ticket_encryption_type_value, service_ticket_name\n",
    "    FROM security_events \n",
    "    WHERE event_id = 4769\n",
    "        AND ticket_encryption_type_value = \"RC4-HMAC\"\n",
    "        AND NOT user_name LIKE \"%$\"\n",
    "        AND NOT(\n",
    "        service_ticket_name LIKE \"%$\" AND service_ticket_name = \"krbtgt\"\n",
    "        )\n",
    "'''\n",
    ")\n",
    "security_4769.show()"
   ]
  },
  {
   "cell_type": "code",
   "execution_count": null,
   "metadata": {},
   "outputs": [],
   "source": []
  }
 ],
 "metadata": {
  "kernelspec": {
   "display_name": "PySpark_Python3",
   "language": "python",
   "name": "pyspark3"
  },
  "language_info": {
   "codemirror_mode": {
    "name": "ipython",
    "version": 3
   },
   "file_extension": ".py",
   "mimetype": "text/x-python",
   "name": "python",
   "nbconvert_exporter": "python",
   "pygments_lexer": "ipython3",
   "version": "3.7.3"
  }
 },
 "nbformat": 4,
 "nbformat_minor": 2
}
