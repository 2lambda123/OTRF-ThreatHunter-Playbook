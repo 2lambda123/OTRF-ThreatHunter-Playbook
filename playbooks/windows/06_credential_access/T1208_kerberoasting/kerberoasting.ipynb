{
 "cells": [
  {
   "cell_type": "markdown",
   "metadata": {},
   "source": [
    "# Kerberoast\n",
    "\n",
    "## Playbook Tags\n",
    "\n",
    "**ID:** WINCRED1907252004\n",
    "\n",
    "\n",
    "**Author:** Jonathan Johnson [@jsecurity101](https://twitter.com/jsecurity101)\n",
    "\n",
    "\n",
    "## ATT&CK Tags\n",
    "\n",
    "**Tactics:** Credential Access\n",
    "\n",
    "**Techniques:** Kerberoasting (T1208)\n",
    "\n",
    "## Applies To\n",
    "\n",
    "## Techinical Description\n",
    "\n",
    "## Hypothesis\n",
    "\n",
    "Adversaries might attempt to pull the NTLM hash of a user by using captured domain credentials to request Kerberos TGS tickets for accounts that are associated with a Service Principal Name (SPN).\n",
    "\n",
    "## Permission Required\n",
    "\n",
    "Domain User\n",
    "\n",
    "## Attack Simulation Dataset\n",
    "\n",
    "| RT Platform  | Dataset | Author |\n",
    "|---------|---------|---------|\n",
    "| Empire | [empire_kerberoast](https://github.com/Cyb3rWard0g/mordor/blob/master/small_datasets/windows/credential_access/kerberoasting_T1208/empire_kerberoast.md) | Jonathan Johnson [@jsecurity101](https://twitter.com/jsecurity101) |\n",
    "\n",
    "## Recommended Data Sources\n",
    "\n",
    "| Event ID | Event Name | Log Provider | Audit Category | Audit Sub-Category | ATT&CK Data Source |\n",
    "|---------|---------|----------|----------|---------|-----|\n",
    "| [4769](https://github.com/Cyb3rWard0g/OSSEM/blob/master/data_dictionaries/windows/security/events/event-4769.md) | A Kerberos service ticket was requested | Microsoft-Windows-Security-Auditing | Audit Kerberos Service Ticket Operations |  Audit Kerberos Service Ticket Operations | Windows Event Logs |\n",
    "\n",
    "\n",
    "## Data Analytics"
   ]
  },
  {
   "cell_type": "markdown",
   "metadata": {},
   "source": [
    "### Initialize Analytics Engine"
   ]
  },
  {
   "cell_type": "code",
   "execution_count": 39,
   "metadata": {},
   "outputs": [],
   "source": [
    "from openhunt.logparser import winlogbeat\n",
    "from pyspark.sql import SparkSession"
   ]
  },
  {
   "cell_type": "code",
   "execution_count": 40,
   "metadata": {},
   "outputs": [
    {
     "name": "stdout",
     "output_type": "stream",
     "text": [
      "<pyspark.sql.session.SparkSession object at 0x7f9f6148f898>\n"
     ]
    }
   ],
   "source": [
    "win = winlogbeat()\n",
    "spark = SparkSession.builder.appName(\"Mordor\").config(\"spark.sql.caseSensitive\", \"True\").getOrCreate()\n",
    "print(spark)"
   ]
  },
  {
   "cell_type": "code",
   "execution_count": 41,
   "metadata": {},
   "outputs": [
    {
     "name": "stdout",
     "output_type": "stream",
     "text": [
      "[+] Processing a Spark DataFrame..\n",
      "[+] Reading Mordor file..\n",
      "[+] Processing Data from Winlogbeat version 7..\n",
      "[+] DataFrame Returned !\n"
     ]
    }
   ],
   "source": [
    "mordor_file = win.extract_nested_fields(\"kerberoast_2019-07-25200422.json\",spark)"
   ]
  },
  {
   "cell_type": "code",
   "execution_count": 42,
   "metadata": {},
   "outputs": [],
   "source": [
    "mordor_file.createOrReplaceTempView(\"mordor_file\")"
   ]
  },
  {
   "cell_type": "code",
   "execution_count": 57,
   "metadata": {},
   "outputs": [
    {
     "name": "stdout",
     "output_type": "stream",
     "text": [
      "+--------+-----------------+--------------------+-----------+------+\n",
      "|event_id|   TargetUserName|TicketEncryptionType|ServiceName|Status|\n",
      "+--------+-----------------+--------------------+-----------+------+\n",
      "|    4769|nmartha@SHIRE.COM|                0x17|    gandalf|   0x0|\n",
      "+--------+-----------------+--------------------+-----------+------+\n",
      "\n"
     ]
    }
   ],
   "source": [
    "security_4769_df = spark.sql(\n",
    "'''\n",
    "    SELECT event_id, TargetUserName, TicketEncryptionType, ServiceName, Status\n",
    "    FROM mordor_file \n",
    "    WHERE channel = \"Security\"\n",
    "        AND event_id = 4769\n",
    "        AND Status = \"0x0\"\n",
    "        AND TicketEncryptionType = \"0x17\"\n",
    "        AND NOT(\n",
    "        ServiceName LIKE \"%$\"\n",
    "        OR \n",
    "        ServiceName = \"krbtgt\"\n",
    "        OR \n",
    "        TargetUserName LIKE \"%$\"\n",
    "        )\n",
    "'''\n",
    ")\n",
    "security_4769_df.show()"
   ]
  },
  {
   "cell_type": "markdown",
   "metadata": {},
   "source": [
    "## Potential False Positives\n",
    "\n",
    "* Anytime a user wants access to a service, a service ticket is requested. Meaning, service tickets are requested very often in enviroments. This makes this attack hard to hunt for. \n",
    "\n",
    "## Detection Blind Spots\n",
    "\n",
    "* Advesary is pulling tickets in a different encryption format. (Ex: AES256_CTS_HMAC_SHA1_96)\n",
    "\n",
    "# Hunter Notes\n",
    "\n",
    "* An adversary can use the captured users domain credentials to request Kerberos TGS tickets for accounts that are associated with an SPN. This ticket can be requested in a specific format (RC4), so when taking it offline it is easier to crack. I have noticed however when specifying that:\n",
    "\n",
    "1. The account requesting the service ticket isn't a `machine($)` account\n",
    "2. The service ticket name they are trying to get access to typeicaly isnt going to be the `krbtgt` account or a `machine ($)` account \n",
    "3. The failure code is `0x0` - ticket was granted\n",
    "4. The ticket encryption is typically requested in `RC4` format \n",
    "\n",
    "    either gets us to the account that the advesary was using or limits down the results to where you can pick out the false positives to find the advesary easier. In a real enviroment this would have to be tailored to fit the enviroments paramenters and needs to better specifiy th query, but this sets a good baseline. \n",
    "\n",
    "* Another good alternative, is to see how many service tickets were pulled in a given time frame. Alot of advesaries won't do `targeted` attacks. They will just pull as many as they can. \n",
    "* Setting a `canary` account is good as well. This is a fake account that is meant to give some insight on attacks. It isn't linked to any services, so if this `canary` account is requested to give a service ticket, we know that an advesary is trying to pull these down. \n",
    "\n",
    "### Potential False Positives\n",
    "\n",
    "* Anytime a user wants access to a service, a service ticket is requested. Meaning, service tickets are requested very often in enviroments. This makes this attack hard to hunt for. \n",
    "\n",
    "### Detection Blind Spots\n",
    "\n",
    "* Advesary is pulling tickets in a different encryption format. (Ex: AES256_CTS_HMAC_SHA1_96)\n",
    "\n",
    "## Hunt Output\n",
    "\n",
    "## References\n",
    "* Will Schroeder (@harmj0y)\n",
    "* https://www.harmj0y.net/blog/redteaming/kerberoasting-revisited/\n",
    "* https://medium.com/@jsecurity101/ioc-differences-between-kerberoasting-and-as-rep-roasting-4ae179cdf9ec\n",
    "* https://www.harmj0y.net/blog/powershell/kerberoasting-without-mimikatz/\n",
    "* https://github.com/Cyb3rWard0g/OSSEM/blob/master/data_dictionaries/windows/security/events/event-4769.md\n",
    "* https://docs.microsoft.com/en-us/windows/security/threat-protection/auditing/event-4769\n"
   ]
  },
  {
   "cell_type": "code",
   "execution_count": null,
   "metadata": {},
   "outputs": [],
   "source": []
  }
 ],
 "metadata": {
  "kernelspec": {
   "display_name": "PySpark_Python3",
   "language": "python",
   "name": "pyspark3"
  },
  "language_info": {
   "codemirror_mode": {
    "name": "ipython",
    "version": 3
   },
   "file_extension": ".py",
   "mimetype": "text/x-python",
   "name": "python",
   "nbconvert_exporter": "python",
   "pygments_lexer": "ipython3",
   "version": "3.7.3"
  }
 },
 "nbformat": 4,
 "nbformat_minor": 2
}
