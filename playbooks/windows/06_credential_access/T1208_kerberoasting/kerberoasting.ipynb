{
 "cells": [
  {
   "cell_type": "code",
   "execution_count": null,
   "metadata": {},
   "outputs": [],
   "source": [
    "# Kerberoast\n",
    "\n",
    "## Playbook Tags\n",
    "\n",
    "**Author:** Jonathan Johnson [@jsecurity101](https://twitter.com/jsecurity101)\n",
    "\n",
    "\n",
    "## ATT&CK Tags\n",
    "\n",
    "**Tactics:** Credential Access\n",
    "\n",
    "**Techniques:** Kerberoasting (T1208)\n",
    "\n",
    "## Applies To\n",
    "\n",
    "## Techinical Description\n",
    "\n",
    "\n",
    "## Hypothesis\n",
    "\n",
    "Adversaries might attempt to pull the NTLM hash of a user by using captured domain credentials to request Kerberos TGS tickets for accounts that are associated with a Service Principal Name (SPN).\n",
    "\n",
    "## Permission Required\n",
    "\n",
    "Domain User\n",
    "\n",
    "## Attack Simulation Dataset\n",
    "\n",
    "| RT Platform  | Dataset | Author |\n",
    "|---------|---------|---------|\n",
    "| Empire | [empire_kerberoast](https://github.com/Cyb3rWard0g/mordor/blob/master/small_datasets/windows/credential_access/kerberoasting_T1208/empire_kerberoast.md) | Jonathan Johnson [@jsecurity101](https://twitter.com/jsecurity101) |\n",
    "\n",
    "## Recommended Data Sources\n",
    "\n",
    "| Event ID | Event Name | Log Provider | Audit Category | Audit Sub-Category | ATT&CK Data Source |\n",
    "|---------|---------|----------|----------|---------|-----|\n",
    "| [4769](https://github.com/Cyb3rWard0g/OSSEM/blob/master/data_dictionaries/windows/security/events/event-4769.md) | A Kerberos service ticket was requested | Microsoft-Windows-Security-Auditing | Audit Kerberos Service Ticket Operations |  | Windows Event Logs |\n",
    "\n",
    "\n",
    "## Analytic(s) Relationships\n",
    "\n",
    "| Data Object | Relationship | Data Object | Event ID |\n",
    "|--------|---------|-------|--------|\n",
    "|  user | requested | service ticket | 4769 |\n",
    "\n",
    "## Data Analytics\n",
    "\n",
    "| FP Rate | Source | Analytic Platform | Analytic Logic | Description |\n",
    "|--------|---------|---------|---------|---------|\n",
    "| Medium | Security | Kibana | `event_id:4769 AND ticket_encryption_type_value: \"RC4-HMAC\" AND NOT (user_name: *$ AND service_ticket_name: krbtgt AND service_ticket_name:*$)` | Pulls events that correlate with `A service ticket was requested`, that were requested in the encryption type: RC4. Filters if the service ticket was granted. Filters out any machine account ($) that requested the service ticket. Lastly, filters out any `requested` service ticket names that are `krbtgt` or a machine account ($). |\n",
    "| Medium | Security | Splunk | `index=wineventlog EventCode=4769 Service_Name!=\"krbtgt\" Service_Name!=\"*$\" Failure_Code =\"0x0\"  Ticket_Encryption_Type=\"0x17\" Account_Name!=\"*$*\"` | Pulls events that correlate with `A service ticket was requested`, that were requested in the encryption type: RC4. Filters if the service ticket was granted. Filters out any machine account ($) that requested the service ticket. Lastly, filters out any `requested` service ticket names that are `krbtgt` or a machine account ($).| \n",
    "\n",
    "    **Note**: For `Account_Name!=*$*` enter your personalized domain so that the query is faster. Example: `Account_Name!=\"*$@domain.com`\n",
    "    \n",
    "| Medium | Security | Jupyter Notebooks + Apache Spark |SELECT event_id, user_name, ticket_encryption_type_value, service_ticket_name FROM security_events WHERE event_id = 4769 AND ticket_encryption_type_value = \"RC4-HMAC\" AND NOT user_name LIKE \"%$\" AND NOT( service_ticket_name LIKE \"%$\" AND service_ticket_name = \"krbtgt\" )\n",
    "\n"
   ]
  },
  {
   "cell_type": "code",
   "execution_count": 14,
   "metadata": {},
   "outputs": [],
   "source": [
    "from pyspark.sql import SparkSession"
   ]
  },
  {
   "cell_type": "code",
   "execution_count": 15,
   "metadata": {},
   "outputs": [],
   "source": [
    "spark = SparkSession.builder \\\n",
    "    .appName(\"HELK JOIN\") \\\n",
    "    .master(\"spark://helk-spark-master:7077\") \\\n",
    "    .enableHiveSupport() \\\n",
    "    .getOrCreate()"
   ]
  },
  {
   "cell_type": "code",
   "execution_count": 16,
   "metadata": {},
   "outputs": [],
   "source": [
    "es_reader = (spark.read\n",
    "    .format(\"org.elasticsearch.spark.sql\")\n",
    "    .option(\"inferSchema\", \"true\")\n",
    "    .option(\"es.read.field.as.array.include\", \"tags\")\n",
    "    .option(\"es.nodes\",\"helk-elasticsearch:9200\")\n",
    "    .option(\"es.net.http.auth.user\",\"elastic\")\n",
    ")"
   ]
  },
  {
   "cell_type": "code",
   "execution_count": 17,
   "metadata": {},
   "outputs": [],
   "source": [
    "security_df = es_reader.load(\"logs-endpoint-winevent-security-*/\")"
   ]
  },
  {
   "cell_type": "code",
   "execution_count": 18,
   "metadata": {},
   "outputs": [],
   "source": [
    "security_df.createOrReplaceTempView(\"security_events\")"
   ]
  },
  {
   "cell_type": "code",
   "execution_count": 38,
   "metadata": {},
   "outputs": [
    {
     "name": "stdout",
     "output_type": "stream",
     "text": [
      "+--------+-----------------+----------------------------+-------------------+\n",
      "|event_id|        user_name|ticket_encryption_type_value|service_ticket_name|\n",
      "+--------+-----------------+----------------------------+-------------------+\n",
      "|    4769|nmartha@shire.com|                    RC4-HMAC|            gandalf|\n",
      "+--------+-----------------+----------------------------+-------------------+\n",
      "\n"
     ]
    }
   ],
   "source": [
    "security_4769 = spark.sql(\n",
    "'''\n",
    "    SELECT event_id, user_name, ticket_encryption_type_value, service_ticket_name\n",
    "    FROM security_events \n",
    "    WHERE event_id = 4769\n",
    "        AND ticket_encryption_type_value = \"RC4-HMAC\"\n",
    "        AND NOT user_name LIKE \"%$\"\n",
    "        AND NOT(\n",
    "        service_ticket_name LIKE \"%$\" AND service_ticket_name = \"krbtgt\"\n",
    "        )\n",
    "'''\n",
    ")\n",
    "security_4769.show()"
   ]
  },
  {
   "cell_type": "code",
   "execution_count": null,
   "metadata": {},
   "outputs": [],
   "source": [
    "## Potential False Positives\n",
    "\n",
    "* Anytime a user wants access to a service, a service ticket is requested. Meaning, service tickets are requested very often in enviroments. This makes this attack hard to hunt for. \n",
    "\n",
    "## Detection Blind Spots\n",
    "\n",
    "* Advesary is pulling tickets in a different encryption format. (Ex: AES256_CTS_HMAC_SHA1_96)\n",
    "\n",
    "## Hunter Notes\n",
    "\n",
    "* An adversary can use the captured users domain credentials to request Kerberos TGS tickets for accounts that are associated with an SPN. This ticket can be requested in a specific format (RC4), so when taking it offline it is easier to crack. I have noticed however when specifying that the account requesting the service ticket isn't a `machine($)` account, the service ticket name they are trying to get access to typeicaly isnt going to be the `krbtgt` account, the failure code is `0x0` - ticket was granted, and the ticket encryption is typically requested in `RC4` format - this either gets us to the account that the advesary was using or limits down the results to where you can pick out the false positives to find the advesary easier. In a real enviroment this would have to be tailored to fit the enviroments paramenters and needs to better specifiy th query, but this sets a good baseline. \n",
    "* Another good alternative, is to see how many service tickets were pulled in a given time frame. Alot of advesaries won't do `targeted` attacks. They will just pull as many as they can. \n",
    "* Setting a `canary` account is good as well. This is a fake account that is meant to give some insight on attacks. It isn't linked to any services, so if this `canary` account is requested to give a service ticket, we know that an advesary is trying to pull these down. \n",
    "\n",
    "## References\n",
    "* Will Schroeder (@harmj0y)\n",
    "* https://www.harmj0y.net/blog/redteaming/kerberoasting-revisited/\n",
    "* https://jsecurity101.com/2019/IOC-differences-between-Kerberoasting-and-AsRep-Roasting/\n",
    "* https://www.harmj0y.net/blog/powershell/kerberoasting-without-mimikatz/\n",
    "* https://github.com/Cyb3rWard0g/OSSEM/blob/master/data_dictionaries/windows/security/events/event-4769.md\n",
    "* https://docs.microsoft.com/en-us/windows/security/threat-protection/auditing/event-4769"
   ]
  }
 ],
 "metadata": {
  "kernelspec": {
   "display_name": "PySpark_Python3",
   "language": "python",
   "name": "pyspark3"
  },
  "language_info": {
   "codemirror_mode": {
    "name": "ipython",
    "version": 3
   },
   "file_extension": ".py",
   "mimetype": "text/x-python",
   "name": "python",
   "nbconvert_exporter": "python",
   "pygments_lexer": "ipython3",
   "version": "3.7.3"
  }
 },
 "nbformat": 4,
 "nbformat_minor": 2
}
